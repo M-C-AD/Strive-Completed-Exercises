{
 "cells": [
  {
   "cell_type": "code",
   "execution_count": null,
   "metadata": {},
   "outputs": [],
   "source": [
    "# Install torch and torchvision on your computer\n",
    "# It's convenient to create a virtual env for that"
   ]
  },
  {
   "cell_type": "code",
   "execution_count": 1,
   "metadata": {
    "ExecuteTime": {
     "end_time": "2021-06-02T11:51:57.356225Z",
     "start_time": "2021-06-02T11:51:43.128680Z"
    }
   },
   "outputs": [],
   "source": [
    "import torch\n",
    "import torch.nn as nn\n",
    "import numpy as np"
   ]
  },
  {
   "cell_type": "code",
   "execution_count": 2,
   "metadata": {
    "ExecuteTime": {
     "end_time": "2021-06-02T11:51:57.464187Z",
     "start_time": "2021-06-02T11:51:57.365202Z"
    }
   },
   "outputs": [
    {
     "data": {
      "text/plain": [
       "<torch._C.Generator at 0x1cdd465ae10>"
      ]
     },
     "execution_count": 2,
     "metadata": {},
     "output_type": "execute_result"
    }
   ],
   "source": [
    "# set the torch manual seed to 42\n",
    "torch.manual_seed(42)"
   ]
  },
  {
   "cell_type": "code",
   "execution_count": 3,
   "metadata": {
    "ExecuteTime": {
     "end_time": "2021-06-02T11:51:57.859229Z",
     "start_time": "2021-06-02T11:51:57.467180Z"
    }
   },
   "outputs": [
    {
     "name": "stdout",
     "output_type": "stream",
     "text": [
      "torch.Size([5])\n"
     ]
    }
   ],
   "source": [
    "# Create a tensor of shape (5,) and store in the features variable\n",
    "features = 0\n",
    "features = torch.ones((5,))\n",
    "print(features.shape)"
   ]
  },
  {
   "cell_type": "code",
   "execution_count": 4,
   "metadata": {
    "ExecuteTime": {
     "end_time": "2021-06-02T11:51:57.937326Z",
     "start_time": "2021-06-02T11:51:57.868205Z"
    }
   },
   "outputs": [],
   "source": [
    "# Generate a tensor called weights with the same shape of features\n",
    "# Hint: search torch.rand_like\n",
    "weights = 0\n",
    "weights = torch.rand_like(features)"
   ]
  },
  {
   "cell_type": "code",
   "execution_count": 5,
   "metadata": {
    "ExecuteTime": {
     "end_time": "2021-06-02T11:51:57.999778Z",
     "start_time": "2021-06-02T11:51:57.940370Z"
    }
   },
   "outputs": [],
   "source": [
    "assert weights.shape == features.shape"
   ]
  },
  {
   "cell_type": "code",
   "execution_count": 6,
   "metadata": {
    "ExecuteTime": {
     "end_time": "2021-06-02T11:51:58.879162Z",
     "start_time": "2021-06-02T11:51:58.001772Z"
    }
   },
   "outputs": [
    {
     "data": {
      "text/plain": [
       "tensor([0.8823, 0.9150, 0.3829, 0.9593, 0.3904])"
      ]
     },
     "execution_count": 6,
     "metadata": {},
     "output_type": "execute_result"
    }
   ],
   "source": [
    "weights"
   ]
  },
  {
   "cell_type": "code",
   "execution_count": 7,
   "metadata": {
    "ExecuteTime": {
     "end_time": "2021-06-02T11:51:58.957585Z",
     "start_time": "2021-06-02T11:51:58.884108Z"
    }
   },
   "outputs": [],
   "source": [
    "bias = torch.randn((1,1))"
   ]
  },
  {
   "cell_type": "code",
   "execution_count": 8,
   "metadata": {
    "ExecuteTime": {
     "end_time": "2021-06-02T11:51:59.039710Z",
     "start_time": "2021-06-02T11:51:58.961582Z"
    }
   },
   "outputs": [
    {
     "data": {
      "text/plain": [
       "tensor([[0.3258]])"
      ]
     },
     "execution_count": 8,
     "metadata": {},
     "output_type": "execute_result"
    }
   ],
   "source": [
    "bias"
   ]
  },
  {
   "cell_type": "code",
   "execution_count": 9,
   "metadata": {
    "ExecuteTime": {
     "end_time": "2021-06-02T11:52:01.176372Z",
     "start_time": "2021-06-02T11:52:01.166427Z"
    }
   },
   "outputs": [],
   "source": [
    "# Implement the sigmoid function by using torch\n",
    "def sigmoid(x):\n",
    "    x = torch.sigmoid(x)\n",
    "    return x"
   ]
  },
  {
   "cell_type": "code",
   "execution_count": 10,
   "metadata": {
    "ExecuteTime": {
     "end_time": "2021-06-02T11:52:04.524896Z",
     "start_time": "2021-06-02T11:52:03.974764Z"
    }
   },
   "outputs": [
    {
     "name": "stdout",
     "output_type": "stream",
     "text": [
      "torch.Size([1, 1])\n"
     ]
    }
   ],
   "source": [
    "# Use torch.dot function for multiplying weights and features and\n",
    "# add the bias to the result. Store the result into the score variable\n",
    "\n",
    "score = 0\n",
    "\n",
    "score = torch.dot(weights,features) + bias\n",
    "print(score.shape)\n"
   ]
  },
  {
   "cell_type": "code",
   "execution_count": 11,
   "metadata": {
    "ExecuteTime": {
     "end_time": "2021-06-02T11:52:06.972674Z",
     "start_time": "2021-06-02T11:52:06.966717Z"
    }
   },
   "outputs": [],
   "source": [
    "assert score.shape == (1,1)"
   ]
  },
  {
   "cell_type": "code",
   "execution_count": 12,
   "metadata": {
    "ExecuteTime": {
     "end_time": "2021-06-02T11:52:09.252845Z",
     "start_time": "2021-06-02T11:52:09.222686Z"
    }
   },
   "outputs": [],
   "source": [
    "# Use the defined sigmoid function to activate the score.\n",
    "# Store the result in the prob variable\n",
    "\n",
    "prob = 0\n",
    "\n",
    "prob = sigmoid(score)\n"
   ]
  },
  {
   "cell_type": "code",
   "execution_count": 13,
   "metadata": {
    "ExecuteTime": {
     "end_time": "2021-06-02T11:52:11.945383Z",
     "start_time": "2021-06-02T11:52:11.927401Z"
    }
   },
   "outputs": [],
   "source": [
    "assert prob.shape == (1,1)"
   ]
  },
  {
   "cell_type": "code",
   "execution_count": 14,
   "metadata": {
    "ExecuteTime": {
     "end_time": "2021-06-02T11:52:14.358623Z",
     "start_time": "2021-06-02T11:52:14.174737Z"
    }
   },
   "outputs": [
    {
     "name": "stdout",
     "output_type": "stream",
     "text": [
      "torch.Size([4, 3])\n"
     ]
    }
   ],
   "source": [
    "# Convert the a numpy array into a torch tensor\n",
    "# Store it in the b variable\n",
    "a = np.random.rand(4, 3)\n",
    "a\n",
    "# b = 0\n",
    "b = torch.tensor(a)\n",
    "print(b.shape)"
   ]
  },
  {
   "cell_type": "code",
   "execution_count": 15,
   "metadata": {
    "ExecuteTime": {
     "end_time": "2021-06-02T11:52:16.840654Z",
     "start_time": "2021-06-02T11:52:16.830710Z"
    }
   },
   "outputs": [],
   "source": [
    "assert b.shape == (4,3) "
   ]
  },
  {
   "cell_type": "code",
   "execution_count": 16,
   "metadata": {
    "ExecuteTime": {
     "end_time": "2021-06-02T11:52:18.725483Z",
     "start_time": "2021-06-02T11:52:18.709711Z"
    }
   },
   "outputs": [
    {
     "data": {
      "text/plain": [
       "numpy.ndarray"
      ]
     },
     "execution_count": 16,
     "metadata": {},
     "output_type": "execute_result"
    }
   ],
   "source": [
    "# Do the opposite now. From the given tensor a convert it a numpy array\n",
    "# Store the result in b\n",
    "a = torch.tensor([1,2])\n",
    "a\n",
    "# b = 0\n",
    "b = np.array(a)\n",
    "type(b)"
   ]
  },
  {
   "cell_type": "code",
   "execution_count": 17,
   "metadata": {
    "ExecuteTime": {
     "end_time": "2021-06-02T11:52:21.073512Z",
     "start_time": "2021-06-02T11:52:21.062542Z"
    }
   },
   "outputs": [],
   "source": [
    "assert type(b) == np.ndarray"
   ]
  },
  {
   "cell_type": "code",
   "execution_count": 18,
   "metadata": {
    "ExecuteTime": {
     "end_time": "2021-06-02T11:52:23.466860Z",
     "start_time": "2021-06-02T11:52:23.158651Z"
    }
   },
   "outputs": [
    {
     "name": "stdout",
     "output_type": "stream",
     "text": [
      "torch.Size([100, 1])\n"
     ]
    },
    {
     "name": "stderr",
     "output_type": "stream",
     "text": [
      "C:\\Users\\Study1\\anaconda3\\envs\\DeepLearning_May21\\lib\\site-packages\\torch\\tensor.py:362: UserWarning: non-inplace resize is deprecated\n",
      "  warnings.warn(\"non-inplace resize is deprecated\")\n"
     ]
    },
    {
     "data": {
      "text/plain": [
       "torch.Tensor"
      ]
     },
     "execution_count": 18,
     "metadata": {},
     "output_type": "execute_result"
    }
   ],
   "source": [
    "# Reshape the given v tensor in a 10x10 tensor.\n",
    "# Store the result in v_reshaped\n",
    "# You can use various methods: reshape, view, resize... Check all of them\n",
    "\n",
    "v = torch.randn((100,1))\n",
    "print(v.shape)\n",
    "# v_reshaped = 0\n",
    "\n",
    "v_reshaped = v.reshape(10,10)\n",
    "v_reshaped = v.view(10,10)\n",
    "v_reshaped = v.resize(10,10)\n",
    "v_reshaped.shape\n",
    "type(v_reshaped)\n"
   ]
  },
  {
   "cell_type": "code",
   "execution_count": 19,
   "metadata": {
    "ExecuteTime": {
     "end_time": "2021-06-02T11:52:40.022592Z",
     "start_time": "2021-06-02T11:52:39.998683Z"
    }
   },
   "outputs": [
    {
     "data": {
      "text/plain": [
       "torch.Size([16, 32, 32, 3])"
      ]
     },
     "execution_count": 19,
     "metadata": {},
     "output_type": "execute_result"
    }
   ],
   "source": [
    "# create a tensor with shape (16, 32, 32, 3) containing only ones\n",
    "# Store it in the ones variable\n",
    "ones = 0\n",
    "\n",
    "ones = torch.ones((16,32,32,3))\n",
    "ones.shape"
   ]
  },
  {
   "cell_type": "code",
   "execution_count": 20,
   "metadata": {
    "ExecuteTime": {
     "end_time": "2021-06-02T11:52:46.787649Z",
     "start_time": "2021-06-02T11:52:46.774681Z"
    }
   },
   "outputs": [],
   "source": [
    "assert ones.shape == (16, 32, 32, 3)"
   ]
  },
  {
   "cell_type": "code",
   "execution_count": 66,
   "metadata": {
    "ExecuteTime": {
     "end_time": "2021-06-02T14:49:39.825306Z",
     "start_time": "2021-06-02T14:49:39.653653Z"
    }
   },
   "outputs": [
    {
     "data": {
      "image/png": "[encoded data removed]",
      "text/plain": [
       "<Figure size 432x288 with 1 Axes>"
      ]
     },
     "metadata": {
      "needs_background": "light"
     },
     "output_type": "display_data"
    },
    {
     "data": {
      "text/html": [
       "<div>\n",
       "<style scoped>\n",
       "    .dataframe tbody tr th:only-of-type {\n",
       "        vertical-align: middle;\n",
       "    }\n",
       "\n",
       "    .dataframe tbody tr th {\n",
       "        vertical-align: top;\n",
       "    }\n",
       "\n",
       "    .dataframe thead th {\n",
       "        text-align: right;\n",
       "    }\n",
       "</style>\n",
       "<table border=\"1\" class=\"dataframe\">\n",
       "  <thead>\n",
       "    <tr style=\"text-align: right;\">\n",
       "      <th></th>\n",
       "      <th>0</th>\n",
       "      <th>1</th>\n",
       "      <th>2</th>\n",
       "    </tr>\n",
       "  </thead>\n",
       "  <tbody>\n",
       "    <tr>\n",
       "      <th>0</th>\n",
       "      <td>0.78051</td>\n",
       "      <td>-0.063669</td>\n",
       "      <td>1</td>\n",
       "    </tr>\n",
       "    <tr>\n",
       "      <th>1</th>\n",
       "      <td>0.28774</td>\n",
       "      <td>0.291390</td>\n",
       "      <td>1</td>\n",
       "    </tr>\n",
       "    <tr>\n",
       "      <th>2</th>\n",
       "      <td>0.40714</td>\n",
       "      <td>0.178780</td>\n",
       "      <td>1</td>\n",
       "    </tr>\n",
       "    <tr>\n",
       "      <th>3</th>\n",
       "      <td>0.29230</td>\n",
       "      <td>0.421700</td>\n",
       "      <td>1</td>\n",
       "    </tr>\n",
       "    <tr>\n",
       "      <th>4</th>\n",
       "      <td>0.50922</td>\n",
       "      <td>0.352560</td>\n",
       "      <td>1</td>\n",
       "    </tr>\n",
       "    <tr>\n",
       "      <th>...</th>\n",
       "      <td>...</td>\n",
       "      <td>...</td>\n",
       "      <td>...</td>\n",
       "    </tr>\n",
       "    <tr>\n",
       "      <th>95</th>\n",
       "      <td>0.77029</td>\n",
       "      <td>0.701400</td>\n",
       "      <td>0</td>\n",
       "    </tr>\n",
       "    <tr>\n",
       "      <th>96</th>\n",
       "      <td>0.73156</td>\n",
       "      <td>0.717820</td>\n",
       "      <td>0</td>\n",
       "    </tr>\n",
       "    <tr>\n",
       "      <th>97</th>\n",
       "      <td>0.44556</td>\n",
       "      <td>0.579910</td>\n",
       "      <td>0</td>\n",
       "    </tr>\n",
       "    <tr>\n",
       "      <th>98</th>\n",
       "      <td>0.85275</td>\n",
       "      <td>0.859870</td>\n",
       "      <td>0</td>\n",
       "    </tr>\n",
       "    <tr>\n",
       "      <th>99</th>\n",
       "      <td>0.51912</td>\n",
       "      <td>0.623590</td>\n",
       "      <td>0</td>\n",
       "    </tr>\n",
       "  </tbody>\n",
       "</table>\n",
       "<p>100 rows × 3 columns</p>\n",
       "</div>"
      ],
      "text/plain": [
       "          0         1  2\n",
       "0   0.78051 -0.063669  1\n",
       "1   0.28774  0.291390  1\n",
       "2   0.40714  0.178780  1\n",
       "3   0.29230  0.421700  1\n",
       "4   0.50922  0.352560  1\n",
       "..      ...       ... ..\n",
       "95  0.77029  0.701400  0\n",
       "96  0.73156  0.717820  0\n",
       "97  0.44556  0.579910  0\n",
       "98  0.85275  0.859870  0\n",
       "99  0.51912  0.623590  0\n",
       "\n",
       "[100 rows x 3 columns]"
      ]
     },
     "execution_count": 66,
     "metadata": {},
     "output_type": "execute_result"
    }
   ],
   "source": [
    "import pandas as pd\n",
    "import matplotlib.pyplot as plt\n",
    "# load and plot the data using scatterplot with different colors for labels\n",
    "data = pd.read_csv('data.csv', header=None)\n",
    "df = pd.DataFrame(data)\n",
    "plt.scatter(df[0], df[1], c=df[2])\n",
    "plt.title('Scatter plot ')\n",
    "plt.xlabel('x')\n",
    "plt.ylabel('y')\n",
    "plt.show()\n",
    "\n",
    "data"
   ]
  },
  {
   "cell_type": "code",
   "execution_count": 11,
   "metadata": {
    "ExecuteTime": {
     "end_time": "2021-05-26T06:52:46.863528Z",
     "start_time": "2021-05-26T06:52:46.755851Z"
    }
   },
   "outputs": [
    {
     "data": {
      "image/png": "[encoded data removed]",
      "text/plain": [
       "<Figure size 432x288 with 1 Axes>"
      ]
     },
     "metadata": {
      "needs_background": "light"
     },
     "output_type": "display_data"
    }
   ],
   "source": []
  },
  {
   "cell_type": "code",
   "execution_count": null,
   "metadata": {},
   "outputs": [],
   "source": []
  }
 ],
 "metadata": {
  "kernelspec": {
   "display_name": "Python 3",
   "language": "python",
   "name": "python3"
  },
  "language_info": {
   "codemirror_mode": {
    "name": "ipython",
    "version": 3
   },
   "file_extension": ".py",
   "mimetype": "text/x-python",
   "name": "python",
   "nbconvert_exporter": "python",
   "pygments_lexer": "ipython3",
   "version": "3.8.5"
  },
  "varInspector": {
   "cols": {
    "lenName": 16,
    "lenType": 16,
    "lenVar": 40
   },
   "kernels_config": {
    "python": {
     "delete_cmd_postfix": "",
     "delete_cmd_prefix": "del ",
     "library": "var_list.py",
     "varRefreshCmd": "print(var_dic_list())"
    },
    "r": {
     "delete_cmd_postfix": ") ",
     "delete_cmd_prefix": "rm(",
     "library": "var_list.r",
     "varRefreshCmd": "cat(var_dic_list()) "
    }
   },
   "types_to_exclude": [
    "module",
    "function",
    "builtin_function_or_method",
    "instance",
    "_Feature"
   ],
   "window_display": false
  }
 },
 "nbformat": 4,
 "nbformat_minor": 5
}
